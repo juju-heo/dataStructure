{
  "nbformat": 4,
  "nbformat_minor": 0,
  "metadata": {
    "colab": {
      "provenance": [],
      "gpuType": "T4",
      "authorship_tag": "ABX9TyO+2jlY+MUDNINufqDwPwLq",
      "include_colab_link": true
    },
    "kernelspec": {
      "name": "python3",
      "display_name": "Python 3"
    },
    "language_info": {
      "name": "python"
    },
    "accelerator": "GPU"
  },
  "cells": [
    {
      "cell_type": "markdown",
      "metadata": {
        "id": "view-in-github",
        "colab_type": "text"
      },
      "source": [
        "<a href=\"https://colab.research.google.com/github/juju-heo/dataStructure/blob/main/firstPython.ipynb\" target=\"_parent\"><img src=\"https://colab.research.google.com/assets/colab-badge.svg\" alt=\"Open In Colab\"/></a>"
      ]
    },
    {
      "cell_type": "code",
      "execution_count": null,
      "metadata": {
        "colab": {
          "base_uri": "https://localhost:8080/"
        },
        "id": "FKzSKwWI8KeP",
        "outputId": "2c14379a-81ec-4105-e88e-4cc7f503c165"
      },
      "outputs": [
        {
          "output_type": "stream",
          "name": "stdout",
          "text": [
            "1\n",
            "string\n"
          ]
        }
      ],
      "source": [
        "i = 1\n",
        "f = 2.22\n",
        "c = 'c'\n",
        "s = \"string\"\n",
        "b = True\n",
        "print(i)\n",
        "print(s)"
      ]
    },
    {
      "cell_type": "code",
      "source": [
        "i = input()\n",
        "s = input()\n",
        "print(i)\n",
        "print(s)"
      ],
      "metadata": {
        "colab": {
          "base_uri": "https://localhost:8080/"
        },
        "id": "rRgDUUzR846G",
        "outputId": "4f51a47f-766f-4fbb-d010-86ad742107a8"
      },
      "execution_count": null,
      "outputs": [
        {
          "output_type": "stream",
          "name": "stdout",
          "text": [
            "2\n",
            "3\n",
            "2\n",
            "3\n"
          ]
        }
      ]
    },
    {
      "cell_type": "code",
      "source": [
        "i = input()\n",
        "print(int(i) + 1)\n",
        "x = int(i)\n",
        "print(x + 1)\n",
        "s = str(x)\n",
        "print(s)"
      ],
      "metadata": {
        "colab": {
          "base_uri": "https://localhost:8080/"
        },
        "id": "mJUzD1p79qgD",
        "outputId": "fc398db5-79b9-47b1-e516-fcfa27dc4b25"
      },
      "execution_count": null,
      "outputs": [
        {
          "output_type": "stream",
          "name": "stdout",
          "text": [
            "1\n",
            "2\n",
            "2\n",
            "1\n"
          ]
        }
      ]
    },
    {
      "cell_type": "code",
      "source": [],
      "metadata": {
        "id": "6TeSJ23F9ymo"
      },
      "execution_count": null,
      "outputs": []
    }
  ]
}