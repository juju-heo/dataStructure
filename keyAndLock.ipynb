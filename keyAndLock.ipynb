{
  "nbformat": 4,
  "nbformat_minor": 0,
  "metadata": {
    "colab": {
      "provenance": [],
      "authorship_tag": "ABX9TyORO+IjKuJ09vp+ZwIvFkno",
      "include_colab_link": true
    },
    "kernelspec": {
      "name": "python3",
      "display_name": "Python 3"
    },
    "language_info": {
      "name": "python"
    }
  },
  "cells": [
    {
      "cell_type": "markdown",
      "metadata": {
        "id": "view-in-github",
        "colab_type": "text"
      },
      "source": [
        "<a href=\"https://colab.research.google.com/github/juju-heo/dataStructure/blob/main/keyAndLock.ipynb\" target=\"_parent\"><img src=\"https://colab.research.google.com/assets/colab-badge.svg\" alt=\"Open In Colab\"/></a>"
      ]
    },
    {
      "cell_type": "code",
      "execution_count": 7,
      "metadata": {
        "colab": {
          "base_uri": "https://localhost:8080/"
        },
        "id": "TD7I8niyTUHA",
        "outputId": "93b9aef4-ad2e-4057-ba58-1e52174f2d5c"
      },
      "outputs": [
        {
          "output_type": "stream",
          "name": "stdout",
          "text": [
            "[0, 0, 0, 0, 0, 0, 0]\n",
            "[0, 0, 0, 0, 0, 0, 0]\n",
            "[0, 0, 1, 1, 1, 0, 0]\n",
            "[0, 0, 1, 1, 0, 0, 0]\n",
            "[0, 0, 1, 0, 1, 0, 0]\n",
            "[0, 0, 0, 0, 0, 0, 0]\n",
            "[0, 0, 0, 0, 0, 0, 0]\n",
            "\n",
            "\n",
            "[0, 0, 0, 0, 0, 0, 0]\n",
            "[0, 0, 0, 0, 0, 0, 0]\n",
            "[0, 0, 1, 1, 1, 0, 0]\n",
            "[0, 0, 0, 1, 1, 0, 0]\n",
            "[0, 0, 1, 0, 1, 0, 0]\n",
            "[0, 0, 0, 0, 0, 0, 0]\n",
            "[0, 0, 0, 0, 0, 0, 0]\n",
            "\n",
            "\n",
            "True\n"
          ]
        }
      ],
      "source": [
        "key = [[0, 0, 0], [1, 0, 0], [0, 1, 1]]\n",
        "lock = [[1, 1, 1], [1, 1, 0], [1, 0, 1]]\n",
        "\n",
        "def printArray(arr): #출력 함수\n",
        "  for i in range(len(arr)):\n",
        "    print(arr[i])\n",
        "  print(\"\\n\")\n",
        "\n",
        "def clock(arr):\n",
        "  size = len(arr)\n",
        "  newArr = [[0] * size for _ in range(size)]\n",
        "  for i in range(len(arr)):\n",
        "    for j in range(len(arr)):\n",
        "      newArr[j][len(arr)-1-i] = arr[i][j]\n",
        "  return newArr\n",
        "\n",
        "\n",
        "def solution(key, lock):\n",
        "  answer = False\n",
        "  #lock보다 큰 배열 생성\n",
        "  size = len(lock) + 2*(len(key) - 1)\n",
        "  newLock = [[0] * size for _ in range(size)]\n",
        "  origin = [[0] * size for _ in range(size)]\n",
        "  #newLock 가운데에 lock 넣기\n",
        "  for i in range(len(lock)):\n",
        "    for j in range(len(lock)):\n",
        "      newLock[i+len(key)-1][j+len(key)-1] = lock[i][j]\n",
        "  printArray(newLock)\n",
        "  printArray(clock(newLock))\n",
        "\n",
        "  #newLock에 key 더해서 2면 겹침, 1이면 맞음, 0이면 비어있음\n",
        "\n",
        "  for v in range(4):\n",
        "    #newLock의 원래 값 origin에 복사\n",
        "    for i in range(len(newLock)):\n",
        "      for j in range(len(newLock)):\n",
        "        origin[i][j] = newLock[i][j]\n",
        "    for ii in range(len(newLock)-(len(key)-1)):\n",
        "      for jj in range(len(newLock)-(len(key)-1)):\n",
        "        for i in range(len(key)):\n",
        "          for j in range(len(key)):\n",
        "            newLock[i+ii][j+jj] += key[i][j]\n",
        "        n = 0\n",
        "        for i in range(len(lock)):\n",
        "          for j in range(len(lock)):\n",
        "            if(newLock[i+len(key)-1][j+len(key)-1] == 1):\n",
        "              n += 1\n",
        "        if n == len(lock)*len(lock):\n",
        "          return True\n",
        "        #origin의 값을 다시 newLock에 복사\n",
        "        for i in range(len(newLock)):\n",
        "          for j in range(len(newLock)):\n",
        "            newLock[i][j] = origin[i][j]\n",
        "\n",
        "    key = clock(key)\n",
        "\n",
        "  return False\n",
        "\n",
        "\n",
        "\n",
        "print(solution(key, lock))\n",
        "\n",
        "\n"
      ]
    },
    {
      "cell_type": "code",
      "source": [],
      "metadata": {
        "id": "1Ts4OYJjbw1y"
      },
      "execution_count": null,
      "outputs": []
    }
  ]
}