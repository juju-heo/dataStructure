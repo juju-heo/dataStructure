{
  "nbformat": 4,
  "nbformat_minor": 0,
  "metadata": {
    "colab": {
      "provenance": [],
      "authorship_tag": "ABX9TyMQAqlSjm2DIkIOtR2ulVU+",
      "include_colab_link": true
    },
    "kernelspec": {
      "name": "python3",
      "display_name": "Python 3"
    },
    "language_info": {
      "name": "python"
    }
  },
  "cells": [
    {
      "cell_type": "markdown",
      "metadata": {
        "id": "view-in-github",
        "colab_type": "text"
      },
      "source": [
        "<a href=\"https://colab.research.google.com/github/juju-heo/dataStructure/blob/main/myFirstBrain.ipynb\" target=\"_parent\"><img src=\"https://colab.research.google.com/assets/colab-badge.svg\" alt=\"Open In Colab\"/></a>"
      ]
    },
    {
      "cell_type": "code",
      "source": [
        "#필요 모듈들\n",
        "import torch\n",
        "from torch import nn\n",
        "from torch.utils.data import TensorDataset, DataLoader, random_split\n",
        "from sklearn.model_selection import train_test_split\n",
        "import numpy as np\n",
        "import pandas as pd\n",
        "import matplotlib.pyplot as plt\n",
        "\n",
        "#hyperparameters\n",
        "EPOCHS = 1000 #횟수\n",
        "LEARNING_RATE = 0.0002 #학습률\n",
        "TEST_SIZE = 0.3\n",
        "DROPOUT = 0.2\n",
        "BATCH_SIZE = 11 # 데이터 batch개당 한 묶음으로 읽어들임(메모리 제한 때문에 사용)\n",
        "\n",
        "#normalization\n",
        "from sklearn.preprocessing import MinMaxScaler\n",
        "\n",
        "df = pd.read_csv(\"data.csv\", encoding=\"utf-8\") #csv파일을 pandas로 읽어와서 저장\n",
        "scores = df.iloc[:,:-1].values #data와label로 나누자\n",
        "print(scores)\n",
        "scaler_score = MinMaxScaler()\n",
        "scores = scaler_score.fit_transform(scores)\n",
        "print(scores)\n",
        "\n",
        "labels = df.iloc[:,-1].values\n",
        "print(labels)\n",
        "scaler_label = MinMaxScaler()\n",
        "labels = scaler_label.fit_transform(labels.reshape(-1, 1))\n",
        "print(labels)\n",
        "\n",
        "#reverse\n",
        "print(scaler_score.inverse_transform(scores))\n",
        "print(scaler_label.inverse_transform(labels))\n",
        "scores = torch.tensor(scores, dtype=torch.float32)\n",
        "labels = torch.tensor(labels, dtype=torch.float32)\n",
        "\n",
        "\n",
        "'''\n",
        "#onehot\n",
        "gender_classes = [\"m\", \"f\", \"u\"]\n",
        "num_gender_class = len(gender_classes) #3\n",
        "class_to_index = {c: idx for idx, c in enumerate(gender_classes)}\n",
        "genders = df.iloc[:,0].values\n",
        "gender_onehot = torch.eye(num_gender_class)[[class_to_index[c] for c in genders]]\n",
        "print(genders)\n",
        "print(gender_onehot)\n",
        "\n",
        "blood_classes = [\"a\", \"b\", \"ab\", \"o\"]\n",
        "num_blood_class = len(blood_classes) #4\n",
        "blood_class_to_index = {c: idx for idx, c in enumerate(blood_classes)}\n",
        "bloods = df.iloc[:,1].values\n",
        "blood_onehot = torch.eye(num_blood_class)[[blood_class_to_index[c] for c in bloods]]\n",
        "\n",
        "inputs = torch.cat([gender_onehot, blood_onehot, scores], dim=1)\n",
        "'''\n",
        "\n",
        "#입력 데이터\n",
        "dataset = TensorDataset(scores, labels)\n",
        "train_size = int(len(dataset) * (1-TEST_SIZE))\n",
        "test_size = len(dataset) - train_size\n",
        "train_dataset, test_dataset = random_split(dataset, [train_size, test_size])\n",
        "train_dataloader = DataLoader(dataset = train_dataset, batch_size=BATCH_SIZE, shuffle = True)\n",
        "test_dataloader = DataLoader(dataset = test_dataset, batch_size=BATCH_SIZE, shuffle = True)\n",
        "\n",
        "print(scores)\n",
        "print(labels)"
      ],
      "metadata": {
        "colab": {
          "base_uri": "https://localhost:8080/"
        },
        "id": "CzWRt76nX3VA",
        "outputId": "2fde0486-2820-4832-b76b-bc2796a6dea3"
      },
      "execution_count": 11,
      "outputs": [
        {
          "output_type": "stream",
          "name": "stdout",
          "text": [
            "[[3 4 5]\n",
            " [5 3 1]\n",
            " [4 5 1]\n",
            " [1 1 5]\n",
            " [2 2 4]\n",
            " [5 4 2]\n",
            " [4 4 2]\n",
            " [1 1 1]\n",
            " [3 2 1]\n",
            " [2 3 1]\n",
            " [2 2 2]]\n",
            "[[0.5  0.75 1.  ]\n",
            " [1.   0.5  0.  ]\n",
            " [0.75 1.   0.  ]\n",
            " [0.   0.   1.  ]\n",
            " [0.25 0.25 0.75]\n",
            " [1.   0.75 0.25]\n",
            " [0.75 0.75 0.25]\n",
            " [0.   0.   0.  ]\n",
            " [0.5  0.25 0.  ]\n",
            " [0.25 0.5  0.  ]\n",
            " [0.25 0.25 0.25]]\n",
            "[60 85 79 70 75 80 81 95 91 88 86]\n",
            "[[0.        ]\n",
            " [0.71428571]\n",
            " [0.54285714]\n",
            " [0.28571429]\n",
            " [0.42857143]\n",
            " [0.57142857]\n",
            " [0.6       ]\n",
            " [1.        ]\n",
            " [0.88571429]\n",
            " [0.8       ]\n",
            " [0.74285714]]\n",
            "[[3. 4. 5.]\n",
            " [5. 3. 1.]\n",
            " [4. 5. 1.]\n",
            " [1. 1. 5.]\n",
            " [2. 2. 4.]\n",
            " [5. 4. 2.]\n",
            " [4. 4. 2.]\n",
            " [1. 1. 1.]\n",
            " [3. 2. 1.]\n",
            " [2. 3. 1.]\n",
            " [2. 2. 2.]]\n",
            "[[60.]\n",
            " [85.]\n",
            " [79.]\n",
            " [70.]\n",
            " [75.]\n",
            " [80.]\n",
            " [81.]\n",
            " [95.]\n",
            " [91.]\n",
            " [88.]\n",
            " [86.]]\n",
            "tensor([[0.5000, 0.7500, 1.0000],\n",
            "        [1.0000, 0.5000, 0.0000],\n",
            "        [0.7500, 1.0000, 0.0000],\n",
            "        [0.0000, 0.0000, 1.0000],\n",
            "        [0.2500, 0.2500, 0.7500],\n",
            "        [1.0000, 0.7500, 0.2500],\n",
            "        [0.7500, 0.7500, 0.2500],\n",
            "        [0.0000, 0.0000, 0.0000],\n",
            "        [0.5000, 0.2500, 0.0000],\n",
            "        [0.2500, 0.5000, 0.0000],\n",
            "        [0.2500, 0.2500, 0.2500]])\n",
            "tensor([[0.0000],\n",
            "        [0.7143],\n",
            "        [0.5429],\n",
            "        [0.2857],\n",
            "        [0.4286],\n",
            "        [0.5714],\n",
            "        [0.6000],\n",
            "        [1.0000],\n",
            "        [0.8857],\n",
            "        [0.8000],\n",
            "        [0.7429]])\n"
          ]
        }
      ]
    },
    {
      "cell_type": "code",
      "execution_count": 12,
      "metadata": {
        "id": "_Mz5BDVMypi0"
      },
      "outputs": [],
      "source": [
        "class FirstBrain(nn.Module):\n",
        "  def __init__(self): #뇌의 형태 만들자\n",
        "    super().__init__()\n",
        "    #뇌의 모양을 결정하는 코드(뇌 만들기)\n",
        "    self.hidden_1 = nn.Linear(3, 20)\n",
        "    self.relu = nn.ReLU()\n",
        "    self.dropout = nn.Dropout(p=DROPOUT)\n",
        "    self.hidden_2 = nn.Linear(20, 40)\n",
        "    self.relu = nn.ReLU()\n",
        "    self.dropout = nn.Dropout(p=DROPOUT)\n",
        "    self.hidden_3 = nn.Linear(40, 40)\n",
        "    self.relu = nn.ReLU()\n",
        "    self.dropout = nn.Dropout(p=DROPOUT)\n",
        "    self.hidden_4 = nn.Linear(40, 1)\n",
        "\n",
        "  def forward(self, x): #입력 값을 받아서 첫번째, 두 번째 hidden layer 지나가기(신경 연결)\n",
        "    x = self.hidden_1(x)\n",
        "    x = self.relu(x)\n",
        "    x = self.dropout(x)\n",
        "    x = self.hidden_2(x)\n",
        "    x = self.relu(x)\n",
        "    x = self.dropout(x)\n",
        "    x = self.hidden_3(x)\n",
        "    x = self.relu(x)\n",
        "    x = self.dropout(x)\n",
        "    x = self.hidden_4(x)\n",
        "    return x\n",
        "\n",
        "model = FirstBrain()"
      ]
    },
    {
      "cell_type": "code",
      "source": [
        "loss_function = nn.MSELoss() #대표적인 손실함수 쓰겠다\n",
        "optimizer = torch.optim.Adam(model.parameters(), lr=LEARNING_RATE) #채점은 Adam optimizer쓰겠다\n",
        "\n",
        "#train\n",
        "losses = []\n",
        "for epoch in range(EPOCHS+1): #epoch은 학습 판수?\n",
        "  model.train()\n",
        "  for batch_x, batch_y in train_dataloader:\n",
        "    prediction = model(batch_x)\n",
        "    loss = loss_function(prediction, batch_y.unsqueeze(1))\n",
        "    losses.append(loss)\n",
        "    optimizer.zero_grad()\n",
        "    loss.backward()\n",
        "    optimizer.step()"
      ],
      "metadata": {
        "colab": {
          "base_uri": "https://localhost:8080/"
        },
        "id": "M36OcH7hZzXI",
        "outputId": "0319a32d-a181-4999-dfbd-e8a1575efc6f"
      },
      "execution_count": 13,
      "outputs": [
        {
          "output_type": "stream",
          "name": "stderr",
          "text": [
            "/usr/local/lib/python3.11/dist-packages/torch/nn/modules/loss.py:610: UserWarning: Using a target size (torch.Size([7, 1, 1])) that is different to the input size (torch.Size([7, 1])). This will likely lead to incorrect results due to broadcasting. Please ensure they have the same size.\n",
            "  return F.mse_loss(input, target, reduction=self.reduction)\n"
          ]
        }
      ]
    },
    {
      "cell_type": "code",
      "source": [
        "#plot\n",
        "plt.xlabel(\"epoch\")\n",
        "plt.ylabel(\"loss\")\n",
        "plt.plot(np.array([loss.detach().numpy() for loss in losses]), label = \"train loss\", color = \"blue\")\n",
        "plt.legend()\n",
        "plt.show()\n",
        "\n",
        "#test\n",
        "for epoch in range(EPOCHS+1):\n",
        "  model.eval()\n",
        "  with torch.no_grad():\n",
        "    for batch_x, batch_y in test_dataloader:\n",
        "      prediction = model(batch_x)\n",
        "      loss = loss_function(prediction, batch_y)\n",
        "\n",
        "# 예측\n",
        "test_data = torch.Tensor([[3, 4, 5], [3, 3, 1]])\n",
        "\n",
        "# 1. 정규화\n",
        "test_data = torch.tensor(scaler_score.transform(test_data), dtype=torch.float32)\n",
        "\n",
        "# 2. 예측 (정규화된 결과)\n",
        "prediction_normalization = model(test_data)\n",
        "\n",
        "# 3. 역정규화 (NumPy로 바꿔서 넣어야 함)\n",
        "prediction_original = scaler_label.inverse_transform(prediction_normalization.detach().numpy())\n",
        "\n",
        "print(\"예측값: \", prediction_original)"
      ],
      "metadata": {
        "colab": {
          "base_uri": "https://localhost:8080/",
          "height": 484
        },
        "id": "ya3mPXvmZucB",
        "outputId": "bc0c3804-1636-4862-fbf5-5ee53f9b0a33"
      },
      "execution_count": 14,
      "outputs": [
        {
          "output_type": "display_data",
          "data": {
            "text/plain": [
              "<Figure size 640x480 with 1 Axes>"
            ],
            "image/png": "[encoded data removed]"
          },
          "metadata": {}
        },
        {
          "output_type": "stream",
          "name": "stdout",
          "text": [
            "예측값:  [[84.33817]\n",
            " [83.43906]]\n"
          ]
        }
      ]
    },
    {
      "cell_type": "code",
      "source": [],
      "metadata": {
        "id": "u8vkMeRTaFHz"
      },
      "execution_count": null,
      "outputs": []
    },
    {
      "cell_type": "code",
      "source": [],
      "metadata": {
        "id": "rA8S292gpg7a"
      },
      "execution_count": null,
      "outputs": []
    }
  ]
}