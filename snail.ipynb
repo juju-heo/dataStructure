{
  "nbformat": 4,
  "nbformat_minor": 0,
  "metadata": {
    "colab": {
      "provenance": [],
      "authorship_tag": "ABX9TyNPmKNvpwt1GnMGBB5F9NP/",
      "include_colab_link": true
    },
    "kernelspec": {
      "name": "python3",
      "display_name": "Python 3"
    },
    "language_info": {
      "name": "python"
    }
  },
  "cells": [
    {
      "cell_type": "markdown",
      "metadata": {
        "id": "view-in-github",
        "colab_type": "text"
      },
      "source": [
        "<a href=\"https://colab.research.google.com/github/juju-heo/dataStructure/blob/dataStructureBranch/snail.ipynb\" target=\"_parent\"><img src=\"https://colab.research.google.com/assets/colab-badge.svg\" alt=\"Open In Colab\"/></a>"
      ]
    },
    {
      "cell_type": "code",
      "execution_count": 6,
      "metadata": {
        "colab": {
          "base_uri": "https://localhost:8080/"
        },
        "id": "vZrity1-kZU1",
        "outputId": "87105c8c-47cc-45f8-8334-cdf57a53b435"
      },
      "outputs": [
        {
          "output_type": "stream",
          "name": "stdout",
          "text": [
            "[1, 2, 3, 4, 5]\n",
            "[16, 17, 18, 19, 6]\n",
            "[15, 24, 25, 20, 7]\n",
            "[14, 23, 22, 21, 8]\n",
            "[13, 12, 11, 10, 9]\n"
          ]
        }
      ],
      "source": [
        "arr = [[0 for _ in range(5)] for _ in range(5)]\n",
        "\n",
        "def printArr(arr):\n",
        "  for i in range(len(arr)):\n",
        "    print(arr[i])\n",
        "\n",
        "value = 1\n",
        "n = len(arr)\n",
        "left = 0\n",
        "right = n\n",
        "up = 0\n",
        "down = n\n",
        "row = 0\n",
        "col = 0\n",
        "\n",
        "while value <= n*n:\n",
        "  for i in range(left, right): #east\n",
        "    arr[row][i] = value\n",
        "    value += 1\n",
        "    col = i\n",
        "  up += 1\n",
        "\n",
        "  for i in range(up, down): #south\n",
        "    arr[i][col] = value\n",
        "    value += 1\n",
        "    row = i\n",
        "  right -= 1\n",
        "\n",
        "  if value > n*n:\n",
        "    break\n",
        "\n",
        "  for i in range(right-1, left-1, -1): #west\n",
        "    arr[row][i] = value\n",
        "    value += 1\n",
        "    col = i\n",
        "  down -= 1\n",
        "\n",
        "\n",
        "  for i in range(down-1, up-1, -1): #north\n",
        "    arr[i][col] = value\n",
        "    value += 1\n",
        "    row = i\n",
        "  left += 1\n",
        "\n",
        "\n",
        "printArr(arr)"
      ]
    },
    {
      "cell_type": "code",
      "source": [],
      "metadata": {
        "id": "C-ZxeP0-mDTq"
      },
      "execution_count": null,
      "outputs": []
    }
  ]
}