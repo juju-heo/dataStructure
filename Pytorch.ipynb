{
  "nbformat": 4,
  "nbformat_minor": 0,
  "metadata": {
    "colab": {
      "provenance": [],
      "authorship_tag": "ABX9TyPd0eHvp7JrVT0Y8MOD/kIW",
      "include_colab_link": true
    },
    "kernelspec": {
      "name": "python3",
      "display_name": "Python 3"
    },
    "language_info": {
      "name": "python"
    }
  },
  "cells": [
    {
      "cell_type": "markdown",
      "metadata": {
        "id": "view-in-github",
        "colab_type": "text"
      },
      "source": [
        "<a href=\"https://colab.research.google.com/github/juju-heo/dataStructure/blob/dataStructureBranch/Pytorch.ipynb\" target=\"_parent\"><img src=\"https://colab.research.google.com/assets/colab-badge.svg\" alt=\"Open In Colab\"/></a>"
      ]
    },
    {
      "cell_type": "code",
      "source": [
        "#필요 모듈들\n",
        "import torch\n",
        "from torch import nn\n",
        "from torch.utils.data import TensorDataset, DataLoader, random_split\n",
        "from sklearn.model_selection import train_test_split\n",
        "import numpy as np\n",
        "import pandas as pd\n",
        "import matplotlib.pyplot as plt\n",
        "\n",
        "#hyperparameters\n",
        "EPOCHS = 2000 #횟수\n",
        "LEARNING_RATE = 0.001 #학습률\n",
        "TEST_SIZE = 0.3\n",
        "DROPOUT = 0.2\n",
        "BATCH_SIZE = 2 # 데이터 두 개당 한 묶음으로 읽어들임(메모리 제한 때문에 사용)\n",
        "\n",
        "data_list = [[1, 2], [10, 20]]\n",
        "\n",
        "data_tensor = torch.Tensor(data_list)\n",
        "print(data_tensor)\n",
        "\n",
        "data_nparray = np.array([[1, 3, 5], [2, 4, 6], [3, 6, 9]])\n",
        "print(data_nparray)\n",
        "data_tensor2 = torch.Tensor(data_nparray)\n",
        "print(data_tensor2)\n",
        "\n",
        "data = data_tensor2.numpy()\n",
        "print(data)\n",
        "\n",
        "TEST_SIZE = 0.3\n",
        "BATCH_SIZE = 2\n",
        "\n",
        "df = pd.read_csv(\"data.csv\", encoding=\"utf-8\") #csv파일을 pandas로 읽어와서 저장\n",
        "scores = torch.Tensor(df.iloc[:,1:-1].values) #data와label로 나누자\n",
        "labels = torch.Tensor(df.iloc[:,-1].values)\n",
        "\n",
        "#onehot\n",
        "classes = [\"m\", \"f\", \"u\"]\n",
        "num_class = len(classes) #3\n",
        "class_to_index = {c: idx for idx, c in enumerate(classes)}\n",
        "genders = df.iloc[:,0].values\n",
        "gender_onehot = torch.eye(num_class)[[class_to_index[c] for c in genders]]\n",
        "print(genders)\n",
        "print(gender_onehot)\n",
        "\n",
        "inputs = torch.cat([gender_onehot, scores], dim=1)\n",
        "\n",
        "dataset = TensorDataset(inputs, labels)\n",
        "train_size = int(len(dataset) * (1-TEST_SIZE))\n",
        "test_size = len(dataset) - train_size\n",
        "train_dataset, test_dataset = random_split(dataset, [train_size, test_size])\n",
        "train_dataloader = DataLoader(dataset = train_dataset, batch_size=BATCH_SIZE, shuffle = True)\n",
        "test_dataloader = DataLoader(dataset = test_dataset, batch_size=BATCH_SIZE, shuffle = True)\n",
        "\n",
        "print(scores)\n",
        "print(labels)"
      ],
      "metadata": {
        "colab": {
          "base_uri": "https://localhost:8080/"
        },
        "id": "DGMuNkQBZEpu",
        "outputId": "9a903db7-8dc7-431e-8578-016199beb5b5"
      },
      "execution_count": 37,
      "outputs": [
        {
          "output_type": "stream",
          "name": "stdout",
          "text": [
            "tensor([[ 1.,  2.],\n",
            "        [10., 20.]])\n",
            "[[1 3 5]\n",
            " [2 4 6]\n",
            " [3 6 9]]\n",
            "tensor([[1., 3., 5.],\n",
            "        [2., 4., 6.],\n",
            "        [3., 6., 9.]])\n",
            "[[1. 3. 5.]\n",
            " [2. 4. 6.]\n",
            " [3. 6. 9.]]\n",
            "['m' 'm' 'f' 'u' 'f' 'u' 'm' 'f' 'f' 'm' 'f']\n",
            "tensor([[1., 0., 0.],\n",
            "        [1., 0., 0.],\n",
            "        [0., 1., 0.],\n",
            "        [0., 0., 1.],\n",
            "        [0., 1., 0.],\n",
            "        [0., 0., 1.],\n",
            "        [1., 0., 0.],\n",
            "        [0., 1., 0.],\n",
            "        [0., 1., 0.],\n",
            "        [1., 0., 0.],\n",
            "        [0., 1., 0.]])\n",
            "tensor([[3., 4., 5.],\n",
            "        [5., 3., 1.],\n",
            "        [4., 5., 1.],\n",
            "        [1., 1., 5.],\n",
            "        [2., 2., 4.],\n",
            "        [5., 4., 2.],\n",
            "        [4., 4., 2.],\n",
            "        [1., 1., 1.],\n",
            "        [3., 2., 1.],\n",
            "        [2., 3., 1.],\n",
            "        [2., 2., 2.]])\n",
            "tensor([60., 85., 79., 70., 75., 80., 81., 95., 91., 88., 86.])\n"
          ]
        }
      ]
    },
    {
      "cell_type": "code",
      "source": [
        "class FirstBrain(nn.Module):\n",
        "  def __init__(self): #뇌의 형태 만들자\n",
        "    super().__init__()\n",
        "    #뇌의 모양을 결정하는 코드(뇌 만들기)\n",
        "    self.hidden_1 = nn.Linear(6, 4)\n",
        "    self.hidden_2 = nn.Linear(4, 4)\n",
        "    self.hidden_3 = nn.Linear(4, 4)\n",
        "    self.hidden_4 = nn.Linear(4, 1)\n",
        "\n",
        "  def forward(self, x): #입력 값을 받아서 첫번째, 두 번째 hidden layer 지나가기(신경 연결)\n",
        "    x = self.hidden_1(x)\n",
        "    x = self.hidden_2(x)\n",
        "    x = self.hidden_3(x)\n",
        "    x = self.hidden_4(x)\n",
        "    return x\n",
        "\n",
        "model = FirstBrain()"
      ],
      "metadata": {
        "id": "Br7jswQfk-jq"
      },
      "execution_count": 38,
      "outputs": []
    },
    {
      "cell_type": "code",
      "source": [
        "loss_function = nn.MSELoss() #대표적인 손실함수 쓰겠다\n",
        "optimizer = torch.optim.Adam(model.parameters(), lr=LEARNING_RATE) #채점은 Adam optimizer쓰겠다\n",
        "\n",
        "#train\n",
        "losses = []\n",
        "for epoch in range(EPOCHS+1): #epoch은 학습 판수?\n",
        "  model.train()\n",
        "  for batch_x, batch_y in train_dataloader:\n",
        "    prediction = model(batch_x)\n",
        "    loss = loss_function(prediction, batch_y.unsqueeze(1))\n",
        "    losses.append(loss)\n",
        "    optimizer.zero_grad()\n",
        "    loss.backward()\n",
        "    optimizer.step()\n",
        "\n",
        "test_data = torch.Tensor([[1, 0, 0, 3, 4, 5], [0, 1, 0, 3, 3, 1]])\n",
        "print(model(test_data))"
      ],
      "metadata": {
        "id": "JHPm6FAfiEeh",
        "colab": {
          "base_uri": "https://localhost:8080/"
        },
        "outputId": "55c437e9-59e4-479d-a59b-1b52e58d34d9"
      },
      "execution_count": 39,
      "outputs": [
        {
          "output_type": "stream",
          "name": "stdout",
          "text": [
            "tensor([[60.2486],\n",
            "        [87.2153]], grad_fn=<AddmmBackward0>)\n"
          ]
        }
      ]
    },
    {
      "cell_type": "code",
      "source": [
        "import os\n",
        "MODEL_PATH = \"/content/pytorch\"\n",
        "\n",
        "torch.save(model, os.path.join(MODEL_PATH, \"model.pt\"))\n",
        "newmodel = torch.load(os.path.join(MODEL_PATH, \"model.pt\"), weights_only=False)\n",
        "\n",
        "print(newmodel(test_data))\n"
      ],
      "metadata": {
        "colab": {
          "base_uri": "https://localhost:8080/"
        },
        "id": "0SfkLwP-qwY7",
        "outputId": "7fbee05b-e55e-4721-e07d-f4a7c2098192"
      },
      "execution_count": 30,
      "outputs": [
        {
          "output_type": "stream",
          "name": "stdout",
          "text": [
            "tensor([[0.5610],\n",
            "        [0.5358]], grad_fn=<AddmmBackward0>)\n"
          ]
        }
      ]
    },
    {
      "cell_type": "code",
      "source": [
        "#plot\n",
        "plt.xlabel(\"epoch\")\n",
        "plt.ylabel(\"loss\")\n",
        "plt.plot(np.array([loss.detach().numpy() for loss in losses]), label = \"train loss\", color = \"blue\")\n",
        "plt.legend()\n",
        "plt.show()\n",
        "\n",
        "#test\n",
        "for epoch in range(EPOCHS+1):\n",
        "  model.eval()\n",
        "  with torch.no_grad():\n",
        "    for batch_x, batch_y in test_dataloader:\n",
        "      prediction = model(batch_x)\n",
        "      loss = loss_function(prediction, batch_y)"
      ],
      "metadata": {
        "colab": {
          "base_uri": "https://localhost:8080/",
          "height": 504
        },
        "id": "T7dqTr3Vtufv",
        "outputId": "5cd52ff1-1937-4fea-c83f-913a14a24e54"
      },
      "execution_count": 40,
      "outputs": [
        {
          "output_type": "display_data",
          "data": {
            "text/plain": [
              "<Figure size 640x480 with 1 Axes>"
            ],
            "image/png": "[encoded data removed]"
          },
          "metadata": {}
        },
        {
          "output_type": "stream",
          "name": "stderr",
          "text": [
            "/usr/local/lib/python3.11/dist-packages/torch/nn/modules/loss.py:610: UserWarning: Using a target size (torch.Size([2])) that is different to the input size (torch.Size([2, 1])). This will likely lead to incorrect results due to broadcasting. Please ensure they have the same size.\n",
            "  return F.mse_loss(input, target, reduction=self.reduction)\n"
          ]
        }
      ]
    },
    {
      "cell_type": "code",
      "source": [
        "#One hot encoding\n",
        "\n",
        "classes = [\"아이브\", \"뉴진스\", \"에스파\"]\n",
        "num_class = len(classes)\n",
        "class_to_index = {c: idx for idx, c in enumerate(classes)}\n",
        "data = [\"에스파\", \"아이브\", \"뉴진스\", \"에스파\"]\n",
        "data_onehot = torch.eye(num_class)[[class_to_index[c] for c in data]]\n",
        "print(data_onehot)"
      ],
      "metadata": {
        "id": "gJKhhtPZv3jW",
        "colab": {
          "base_uri": "https://localhost:8080/"
        },
        "outputId": "87461c9c-7cab-419a-937b-6e7a2e350204"
      },
      "execution_count": 14,
      "outputs": [
        {
          "output_type": "stream",
          "name": "stdout",
          "text": [
            "tensor([[0., 0., 1.],\n",
            "        [1., 0., 0.],\n",
            "        [0., 1., 0.],\n",
            "        [0., 0., 1.]])\n"
          ]
        }
      ]
    },
    {
      "cell_type": "code",
      "source": [],
      "metadata": {
        "id": "Yu2tgjCAciHi"
      },
      "execution_count": null,
      "outputs": []
    }
  ]
}